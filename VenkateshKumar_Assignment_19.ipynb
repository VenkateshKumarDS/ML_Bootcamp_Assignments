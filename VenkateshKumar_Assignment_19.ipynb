{
  "nbformat": 4,
  "nbformat_minor": 0,
  "metadata": {
    "colab": {
      "provenance": []
    },
    "kernelspec": {
      "name": "python3",
      "display_name": "Python 3"
    },
    "language_info": {
      "name": "python"
    }
  },
  "cells": [
    {
      "cell_type": "markdown",
      "source": [
        "1. Make a class called Thing with no contents and print it. Then, create an object called example from this class and also print it. Are the printed values the same or different?"
      ],
      "metadata": {
        "id": "2BC2BR63WepR"
      }
    },
    {
      "cell_type": "code",
      "execution_count": null,
      "metadata": {
        "colab": {
          "base_uri": "https://localhost:8080/"
        },
        "id": "4ColF-vtVrPB",
        "outputId": "1e219ff6-4cdb-4495-877f-0a131ed7fbcc"
      },
      "outputs": [
        {
          "output_type": "stream",
          "name": "stdout",
          "text": [
            "<class '__main__.thing'>\n"
          ]
        }
      ],
      "source": [
        "class thing:\n",
        "  pass\n",
        "print(thing)"
      ]
    },
    {
      "cell_type": "code",
      "source": [
        "example=thing()\n",
        "example\n",
        "# Answer: No, the printed value is different"
      ],
      "metadata": {
        "colab": {
          "base_uri": "https://localhost:8080/"
        },
        "id": "-Oxn16nMWud-",
        "outputId": "9f4572b4-aa64-425d-b858-768a46f2a2b6"
      },
      "execution_count": null,
      "outputs": [
        {
          "output_type": "execute_result",
          "data": {
            "text/plain": [
              "<__main__.thing at 0x7fd3c59b2f40>"
            ]
          },
          "metadata": {},
          "execution_count": 2
        }
      ]
    },
    {
      "cell_type": "markdown",
      "source": [
        "2. Create a new class called Thing2 and add the value 'abc' to the letters class attribute. Letters should be printed."
      ],
      "metadata": {
        "id": "1EZje2s5Nu-H"
      }
    },
    {
      "cell_type": "code",
      "source": [
        "class Thing2:\n",
        "  letters='abc'\n",
        "Thing2.letters"
      ],
      "metadata": {
        "id": "K2k1VvpQW_1Z",
        "colab": {
          "base_uri": "https://localhost:8080/",
          "height": 36
        },
        "outputId": "ed644097-8a44-4097-9897-fd11ad9af4ad"
      },
      "execution_count": 1,
      "outputs": [
        {
          "output_type": "execute_result",
          "data": {
            "text/plain": [
              "'abc'"
            ],
            "application/vnd.google.colaboratory.intrinsic+json": {
              "type": "string"
            }
          },
          "metadata": {},
          "execution_count": 1
        }
      ]
    },
    {
      "cell_type": "markdown",
      "source": [
        "3. Make yet another class called, of course, Thing3. This time, assign the value 'xyz' to an instance (object) attribute called letters. Print letters. Do you need to make an object from the class to do this?"
      ],
      "metadata": {
        "id": "u_DXDRaION96"
      }
    },
    {
      "cell_type": "code",
      "source": [
        "class Thing3:\n",
        "  def __init__(self,letter):\n",
        "    self.letter=letter\n",
        "  def letters(self):\n",
        "    print(self.letter)\n",
        "Thing3('xyz').letters()"
      ],
      "metadata": {
        "colab": {
          "base_uri": "https://localhost:8080/"
        },
        "id": "junlIzg_N-EM",
        "outputId": "53e5a904-4f4d-4543-837e-eeca411ee455"
      },
      "execution_count": 2,
      "outputs": [
        {
          "output_type": "stream",
          "name": "stdout",
          "text": [
            "xyz\n"
          ]
        }
      ]
    },
    {
      "cell_type": "markdown",
      "source": [
        "4. Create an Element class with the instance attributes name, symbol, and number. Create a class object with the values 'Hydrogen,' 'H,' and 1."
      ],
      "metadata": {
        "id": "y6MKSYBSO290"
      }
    },
    {
      "cell_type": "code",
      "source": [
        "class Element:\n",
        "  def __init__(self,name,symbol,number):\n",
        "    self.name=name\n",
        "    self.symbol=symbol\n",
        "    self.number=number\n",
        "\n",
        "obj=Element('Hydrogen','H',1)\n",
        "print(obj.name,obj.symbol,obj.number)"
      ],
      "metadata": {
        "colab": {
          "base_uri": "https://localhost:8080/"
        },
        "id": "3vtBl74pOq1a",
        "outputId": "3e5c8585-40d4-441d-b1dc-02f649485714"
      },
      "execution_count": 10,
      "outputs": [
        {
          "output_type": "stream",
          "name": "stdout",
          "text": [
            "Hydrogen H 1\n"
          ]
        }
      ]
    },
    {
      "cell_type": "markdown",
      "source": [
        "5. Make a dictionary with these keys and values: 'name': 'Hydrogen', 'symbol': 'H', 'number': 1. Then, create an object called hydrogen from class Element using this dictionary."
      ],
      "metadata": {
        "id": "4QYfkOScQU_8"
      }
    },
    {
      "cell_type": "code",
      "source": [
        "dct={'name': 'Hydrogen', 'symbol': 'H', 'number': 1}\n",
        "hydrogen=Element(**dct)\n",
        "\n",
        "print(hydrogen.name,hydrogen.symbol,hydrogen.number)"
      ],
      "metadata": {
        "colab": {
          "base_uri": "https://localhost:8080/"
        },
        "id": "gOc_bOaiPhAD",
        "outputId": "392e7151-c563-48da-9359-ab9ea4bdd2c8"
      },
      "execution_count": 20,
      "outputs": [
        {
          "output_type": "stream",
          "name": "stdout",
          "text": [
            "Hydrogen H 1\n"
          ]
        }
      ]
    },
    {
      "cell_type": "markdown",
      "source": [
        "6. For the Element class, define a method called dump() that prints the values of the object’s attributes (name, symbol, and number). Create the hydrogen object from this new definition and use dump() to print its attributes."
      ],
      "metadata": {
        "id": "_-vIaXd7Q_T3"
      }
    },
    {
      "cell_type": "code",
      "source": [
        "class Element:\n",
        "  def __init__(self,name,symbol,number):\n",
        "    self.name=name\n",
        "    self.symbol=symbol\n",
        "    self.number=number\n",
        "  def dump(self):\n",
        "    print(self.name,self.symbol,self.number)\n",
        "hydrogen=Element('Hydrogen','H',1)\n",
        "hydrogen.dump()"
      ],
      "metadata": {
        "colab": {
          "base_uri": "https://localhost:8080/"
        },
        "id": "stwj5oqhQuH2",
        "outputId": "dc403b80-eeb3-48b6-da0e-808b97c8b16f"
      },
      "execution_count": 16,
      "outputs": [
        {
          "output_type": "stream",
          "name": "stdout",
          "text": [
            "Hydrogen H 1\n"
          ]
        }
      ]
    },
    {
      "cell_type": "markdown",
      "source": [
        "7. Call print(hydrogen). In the definition of Element, change the name of method dump to __str__, create a new hydrogen object, and call print(hydrogen) again."
      ],
      "metadata": {
        "id": "Wg2uzncKR7v-"
      }
    },
    {
      "cell_type": "code",
      "source": [
        "\n",
        "hydrogen=Element('Hydrogen','H',1)\n",
        "print(hydrogen)"
      ],
      "metadata": {
        "colab": {
          "base_uri": "https://localhost:8080/"
        },
        "id": "lB-bvVOjRiQd",
        "outputId": "0eac1d66-156c-4515-857e-55129fdb95f9"
      },
      "execution_count": 29,
      "outputs": [
        {
          "output_type": "stream",
          "name": "stdout",
          "text": [
            "Name = Hydrogen | Symbol = H | Number = 1\n"
          ]
        }
      ]
    },
    {
      "cell_type": "code",
      "source": [
        "class Element:\n",
        "  def __init__(self,name,symbol,number):\n",
        "    self.name=name\n",
        "    self.symbol=symbol\n",
        "    self.number=number\n",
        "  def __str__(self):\n",
        "    return('Name = %s | Symbol = %s | Number = %s'%(self.name,self.symbol,self.number))\n",
        "\n",
        "print(hydrogen)"
      ],
      "metadata": {
        "colab": {
          "base_uri": "https://localhost:8080/"
        },
        "id": "ormrVAVMSurS",
        "outputId": "514a4d44-5ad0-4bc9-9511-b7d5b09291b3"
      },
      "execution_count": 30,
      "outputs": [
        {
          "output_type": "stream",
          "name": "stdout",
          "text": [
            "Name = Hydrogen | Symbol = H | Number = 1\n"
          ]
        }
      ]
    },
    {
      "cell_type": "markdown",
      "source": [
        "8. Modify Element to make the attributes name, symbol, and number private. Define a getter property for each to return its value."
      ],
      "metadata": {
        "id": "lnW4xqR4UM4N"
      }
    },
    {
      "cell_type": "code",
      "source": [
        "class Element(): \n",
        "    def __init__(self ,name,symbol,number):\n",
        "        self.__name = name\n",
        "        self.__symbol = symbol\n",
        "        self.__number = number\n",
        "    @property\n",
        "    def name(self):\n",
        "        return (self.__name)\n",
        "    @property\n",
        "    def symbol(self):\n",
        "        return (self.__symbol)\n",
        "    @property\n",
        "    def number(self):\n",
        "        return (self.__number)\n",
        "hydrogen=Element('Hydrogen','H',1)\n",
        "hydrogen.name,hydrogen.symbol,hydrogen.number"
      ],
      "metadata": {
        "colab": {
          "base_uri": "https://localhost:8080/"
        },
        "id": "btHvWSTHURW1",
        "outputId": "6db22a60-18de-4012-dec1-250f9c3a4dca"
      },
      "execution_count": 33,
      "outputs": [
        {
          "output_type": "execute_result",
          "data": {
            "text/plain": [
              "('Hydrogen', 'H', 1)"
            ]
          },
          "metadata": {},
          "execution_count": 33
        }
      ]
    },
    {
      "cell_type": "markdown",
      "source": [
        "9. Define three classes: Bear, Rabbit, and Octothorpe. For each, define only one method: eats(). This should return 'berries' (Bear), 'clover' (Rabbit), or 'campers' (Octothorpe). Create one object from each and print what it eats."
      ],
      "metadata": {
        "id": "vg8vx9C1W7d5"
      }
    },
    {
      "cell_type": "code",
      "source": [
        "class Bear:\n",
        "    def eats():\n",
        "        print('berries')\n",
        "\n",
        "class Rabbit:\n",
        "    def eats():\n",
        "        print('clover')\n",
        "\n",
        "class Octothorpe:\n",
        "    def eats():\n",
        "        print('campers')\n",
        "print('Bear eats')\n",
        "Bear.eats()\n",
        "print('Rabbit eats')\n",
        "Rabbit.eats()\n",
        "print('Octothorpe eats')\n",
        "Octothorpe.eats()\n"
      ],
      "metadata": {
        "colab": {
          "base_uri": "https://localhost:8080/"
        },
        "id": "1zdNZguUUhK0",
        "outputId": "e228cd8c-915b-44da-da8b-c7877012bdb8"
      },
      "execution_count": 40,
      "outputs": [
        {
          "output_type": "stream",
          "name": "stdout",
          "text": [
            "Bear eats\n",
            "berries\n",
            "Rabbit eats\n",
            "clover\n",
            "Octothorpe eats\n",
            "campers\n"
          ]
        }
      ]
    },
    {
      "cell_type": "markdown",
      "source": [
        "10. Define these classes: Laser, Claw, and SmartPhone. Each has only one method: does(). This returns 'disintegrate' (Laser), 'crush' (Claw), or 'ring' (SmartPhone). Then, define the class Robot that has one instance (object) of each of these. Define a does() method for the Robot that prints what its component objects do."
      ],
      "metadata": {
        "id": "VqWCPinqW-tT"
      }
    },
    {
      "cell_type": "code",
      "source": [
        "class Laser:\n",
        "  def does(self):\n",
        "    return 'disintegrate'\n",
        "class Claw:\n",
        "  def does(self):\n",
        "    return 'crush'\n",
        "class SmartPhone:\n",
        "  def does (self):\n",
        "    return 'ring'\n",
        "class Robot:\n",
        "  def __init__(self):\n",
        "    self.laser=Laser()\n",
        "    self.claw=Claw()\n",
        "    self.smartphone=SmartPhone()\n",
        "  def does(self):\n",
        "    return ('Laser - %s | Claw - %s | SmartPhone - %s'%(self.laser.does(),self.claw.does(),self.smartphone.does()))\n"
      ],
      "metadata": {
        "id": "NQnQ328xVOEC"
      },
      "execution_count": 42,
      "outputs": []
    },
    {
      "cell_type": "code",
      "source": [
        "r=Robot()\n",
        "r.does()"
      ],
      "metadata": {
        "colab": {
          "base_uri": "https://localhost:8080/",
          "height": 36
        },
        "id": "pason-dvXm0y",
        "outputId": "e07a77c3-a48c-4792-fd69-9f9b51782f9a"
      },
      "execution_count": 43,
      "outputs": [
        {
          "output_type": "execute_result",
          "data": {
            "text/plain": [
              "'Laser - disintegrate | Claw - crush | SmartPhone - ring'"
            ],
            "application/vnd.google.colaboratory.intrinsic+json": {
              "type": "string"
            }
          },
          "metadata": {},
          "execution_count": 43
        }
      ]
    }
  ]
}