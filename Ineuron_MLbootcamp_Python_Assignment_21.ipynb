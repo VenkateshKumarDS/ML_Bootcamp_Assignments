{
 "cells": [
  {
   "cell_type": "markdown",
   "id": "8920021d",
   "metadata": {},
   "source": [
    "# ML_BootCamp\n",
    "# Python Basics Assignment - 21"
   ]
  },
  {
   "cell_type": "markdown",
   "id": "83555ae6",
   "metadata": {},
   "source": [
    "1. Add the current date to the text file today.txt as a string\n"
   ]
  },
  {
   "cell_type": "code",
   "execution_count": 7,
   "id": "56025451",
   "metadata": {},
   "outputs": [],
   "source": [
    "from datetime import date\n",
    "today=date.today()\n",
    "date_today=today.isoformat()\n",
    "\n",
    "with open('today.txt','w') as file:\n",
    "    file.write(date_today)"
   ]
  },
  {
   "cell_type": "code",
   "execution_count": 8,
   "id": "4a802103",
   "metadata": {},
   "outputs": [
    {
     "data": {
      "text/plain": [
       "'2023-04-07'"
      ]
     },
     "execution_count": 8,
     "metadata": {},
     "output_type": "execute_result"
    }
   ],
   "source": [
    "date_today"
   ]
  },
  {
   "cell_type": "markdown",
   "id": "6069a75b",
   "metadata": {},
   "source": [
    "2. Read the text file today.txt into the string today_string\n"
   ]
  },
  {
   "cell_type": "code",
   "execution_count": 9,
   "id": "d126658c",
   "metadata": {},
   "outputs": [
    {
     "data": {
      "text/plain": [
       "'2023-04-07'"
      ]
     },
     "execution_count": 9,
     "metadata": {},
     "output_type": "execute_result"
    }
   ],
   "source": [
    "with open('today.txt','r') as file:\n",
    "    today_string=file.read()\n",
    "today_string"
   ]
  },
  {
   "cell_type": "markdown",
   "id": "9b8223ac",
   "metadata": {},
   "source": [
    "3. Parse the date from today_string."
   ]
  },
  {
   "cell_type": "code",
   "execution_count": 16,
   "id": "9292f5a5",
   "metadata": {},
   "outputs": [
    {
     "data": {
      "text/plain": [
       "datetime.datetime(2023, 4, 7, 0, 0)"
      ]
     },
     "execution_count": 16,
     "metadata": {},
     "output_type": "execute_result"
    }
   ],
   "source": [
    "from datetime import datetime as dt\n",
    "format='%Y-%m-%d'\n",
    "dt.strptime(today_string,format)"
   ]
  },
  {
   "cell_type": "markdown",
   "id": "e24bbcea",
   "metadata": {},
   "source": [
    "4. List the files in your current directory\n"
   ]
  },
  {
   "cell_type": "code",
   "execution_count": 17,
   "id": "bbb7cab5",
   "metadata": {
    "scrolled": false
   },
   "outputs": [
    {
     "data": {
      "text/plain": [
       "['.android',\n",
       " '.conda',\n",
       " '.condarc',\n",
       " '.continuum',\n",
       " '.dbshell',\n",
       " '.gitconfig',\n",
       " '.idlerc',\n",
       " '.ipynb_checkpoints',\n",
       " '.ipython',\n",
       " '.jupyter',\n",
       " '.matplotlib',\n",
       " '.mongorc.js',\n",
       " '.spyder-py3',\n",
       " '.streamlit',\n",
       " '01_02April2023_Numpy_and_EDA_Guvi.ipynb',\n",
       " '12th Jan MLB(string,dictionary).ipynb',\n",
       " '3D Objects',\n",
       " 'alkfsjfjjlkd.txt',\n",
       " 'ano2way.csv',\n",
       " 'anova2way.csv',\n",
       " 'ANOVA_Assignment_MLBootCamp.ipynb',\n",
       " 'AppData',\n",
       " 'Application Data',\n",
       " 'ARR75.py',\n",
       " 'ARR76.py',\n",
       " 'ARR77.py',\n",
       " 'ARR78.py',\n",
       " 'ARR81.py',\n",
       " 'ARR83.py',\n",
       " 'ARR84.py',\n",
       " 'ARR85.py',\n",
       " 'ARR86.py',\n",
       " 'ARR89.py',\n",
       " 'battery-report.html',\n",
       " 'bitcoin.csv',\n",
       " 'bitcoin.json',\n",
       " 'bluej',\n",
       " 'books.csv',\n",
       " 'books.db',\n",
       " 'BullseyeCoverageError.txt',\n",
       " 'CODEKATA',\n",
       " 'codekata.py',\n",
       " 'Contacts',\n",
       " 'Cookies',\n",
       " 'DataScience.csv',\n",
       " 'DataScience.json',\n",
       " 'date_today.txt',\n",
       " 'DA_with_python.ipynb',\n",
       " 'Desktop',\n",
       " 'Documents',\n",
       " 'Downloads',\n",
       " 'ExceptionHandling.ipynb',\n",
       " 'Favorites',\n",
       " 'guviclass040223.ipynb',\n",
       " 'guvilabsession_110223.ipynb',\n",
       " 'GUVITASK1',\n",
       " 'guvi_ds.ipynb',\n",
       " 'Guvi_Mysql180223.ipynb',\n",
       " 'How to Index Elements - Exercise.ipynb',\n",
       " 'How to Reassign Values - Exercise.ipynb',\n",
       " 'How to Structure Your Code with Indentation - Exercise.ipynb',\n",
       " 'Hypothesis_Testing.ipynb',\n",
       " 'IBM-313 Marks.xlsx',\n",
       " 'ineuasignment20.ipynb',\n",
       " 'ineuron_Asgmnt_18.ipynb',\n",
       " 'ineuron_assignment_17.ipynb',\n",
       " 'IntelGraphicsProfiles',\n",
       " 'Jedi',\n",
       " 'Links',\n",
       " 'Local Settings',\n",
       " 'Microsoft',\n",
       " 'mlbootcamp_ploting_06042023.ipynb',\n",
       " 'modules.ipynb',\n",
       " 'MONGODB TASK GUVI.py',\n",
       " 'Music',\n",
       " 'My Documents',\n",
       " 'myclass.py',\n",
       " 'myclass.txt',\n",
       " 'mysql120223.py',\n",
       " 'NetHood',\n",
       " 'New folder',\n",
       " 'New Text Document.txt',\n",
       " 'NTUSER.DAT',\n",
       " 'ntuser.dat.LOG1',\n",
       " 'ntuser.dat.LOG2',\n",
       " 'NTUSER.DAT{a2332f18-cdbf-11ec-8680-002248483d79}.TM.blf',\n",
       " 'NTUSER.DAT{a2332f18-cdbf-11ec-8680-002248483d79}.TMContainer00000000000000000001.regtrans-ms',\n",
       " 'NTUSER.DAT{a2332f18-cdbf-11ec-8680-002248483d79}.TMContainer00000000000000000002.regtrans-ms',\n",
       " 'ntuser.ini',\n",
       " 'OneDrive',\n",
       " 'Pandas_Spl_session_17_18_19_March_2023.ipynb',\n",
       " 'Pictures',\n",
       " 'Postman',\n",
       " 'PrintHood',\n",
       " 'PycharmProjects',\n",
       " 'PyWhatKit_DB.txt',\n",
       " 'PY_for_DS.ipynb',\n",
       " 'Recent',\n",
       " 'Saved Games',\n",
       " 'Searches',\n",
       " 'SendTo',\n",
       " 'Start Menu',\n",
       " 'stlit.py',\n",
       " 'Supermart.json',\n",
       " 'Templates',\n",
       " 'test.txt',\n",
       " 'The Arithmetic Operators of Python - Exercise.ipynb',\n",
       " 'The Arithmetic Operators of Python - Solution.ipynb',\n",
       " 'titanic.ipynb',\n",
       " 'today.txt',\n",
       " 'twitter.py',\n",
       " 'twitter1.py',\n",
       " 'Twitter_Scrapping.ipynb',\n",
       " 'Understanding Line Continuation - Exercise.ipynb',\n",
       " 'Understanding Numbers and Boolean Values - Exercise.ipynb',\n",
       " 'Understanding Numbers and Boolean Values - Solution.ipynb',\n",
       " 'Untitled Folder',\n",
       " 'Untitled Folder 1',\n",
       " 'Untitled Folder 2',\n",
       " 'Untitled Folder 3',\n",
       " 'Untitled.ipynb',\n",
       " 'untitled0.py',\n",
       " 'Untitled1.ipynb',\n",
       " 'untitled1.py',\n",
       " 'Untitled10.ipynb',\n",
       " 'Untitled11.ipynb',\n",
       " 'Untitled12.ipynb',\n",
       " 'Untitled13.ipynb',\n",
       " 'Untitled14.ipynb',\n",
       " 'Untitled15.ipynb',\n",
       " 'Untitled16.ipynb',\n",
       " 'Untitled17.ipynb',\n",
       " 'Untitled2.ipynb',\n",
       " 'untitled2.py',\n",
       " 'Untitled3.ipynb',\n",
       " 'untitled3.py',\n",
       " 'Untitled4.ipynb',\n",
       " 'Untitled5.ipynb',\n",
       " 'Untitled6.ipynb',\n",
       " 'Untitled60.ipynb',\n",
       " 'Untitled7.ipynb',\n",
       " 'Untitled8.ipynb',\n",
       " 'Untitled9.ipynb',\n",
       " 'Videos',\n",
       " 'visualization010423.ipynb',\n",
       " 'What is the Double Equality Sign - Exercise.ipynb',\n",
       " 'WHATSAPP.py',\n",
       " 'zoo.py',\n",
       " '__pycache__']"
      ]
     },
     "execution_count": 17,
     "metadata": {},
     "output_type": "execute_result"
    }
   ],
   "source": [
    "import os\n",
    "os.listdir()"
   ]
  },
  {
   "cell_type": "markdown",
   "id": "ba0b7053",
   "metadata": {},
   "source": [
    "7. Create a date object of your day of birth.\n"
   ]
  },
  {
   "cell_type": "code",
   "execution_count": 20,
   "id": "e0b441d3",
   "metadata": {},
   "outputs": [
    {
     "data": {
      "text/plain": [
       "datetime.date(1979, 12, 20)"
      ]
     },
     "execution_count": 20,
     "metadata": {},
     "output_type": "execute_result"
    }
   ],
   "source": [
    "dob=date(1979,12,20)\n",
    "dob"
   ]
  },
  {
   "cell_type": "markdown",
   "id": "f015d9b5",
   "metadata": {},
   "source": [
    "8. What day of the week was your day of birth?\n"
   ]
  },
  {
   "cell_type": "code",
   "execution_count": 21,
   "id": "53936584",
   "metadata": {},
   "outputs": [
    {
     "data": {
      "text/plain": [
       "3"
      ]
     },
     "execution_count": 21,
     "metadata": {},
     "output_type": "execute_result"
    }
   ],
   "source": [
    "dob.weekday()"
   ]
  },
  {
   "cell_type": "markdown",
   "id": "5ba690dc",
   "metadata": {},
   "source": [
    "9. When will you be (or when were you) 10,000 days old?\n"
   ]
  },
  {
   "cell_type": "code",
   "execution_count": 22,
   "id": "c675c9b8",
   "metadata": {},
   "outputs": [
    {
     "data": {
      "text/plain": [
       "datetime.date(2007, 5, 7)"
      ]
     },
     "execution_count": 22,
     "metadata": {},
     "output_type": "execute_result"
    }
   ],
   "source": [
    "from datetime import timedelta as td\n",
    "day10k=dob+td(days=10000)\n",
    "day10k"
   ]
  },
  {
   "cell_type": "code",
   "execution_count": null,
   "id": "2ab125b5",
   "metadata": {},
   "outputs": [],
   "source": []
  }
 ],
 "metadata": {
  "kernelspec": {
   "display_name": "Python 3 (ipykernel)",
   "language": "python",
   "name": "python3"
  },
  "language_info": {
   "codemirror_mode": {
    "name": "ipython",
    "version": 3
   },
   "file_extension": ".py",
   "mimetype": "text/x-python",
   "name": "python",
   "nbconvert_exporter": "python",
   "pygments_lexer": "ipython3",
   "version": "3.11.2"
  }
 },
 "nbformat": 4,
 "nbformat_minor": 5
}
