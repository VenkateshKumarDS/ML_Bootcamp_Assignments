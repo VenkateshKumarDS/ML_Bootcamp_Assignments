{
 "cells": [
  {
   "cell_type": "markdown",
   "id": "f21083a0",
   "metadata": {},
   "source": [
    "1. What is the result of the code, and explain?\n"
   ]
  },
  {
   "cell_type": "code",
   "execution_count": 1,
   "id": "c882a0af",
   "metadata": {},
   "outputs": [
    {
     "name": "stdout",
     "output_type": "stream",
     "text": [
      "iNeuron\n"
     ]
    }
   ],
   "source": [
    "X = 'iNeuron'\n",
    "def func():\n",
    "    print(X)\n",
    "func()\n",
    "# Explanation: X is a global variable which can be accessed anywhere within the program"
   ]
  },
  {
   "cell_type": "markdown",
   "id": "5b416578",
   "metadata": {},
   "source": [
    "2. What is the result of the code, and explain?"
   ]
  },
  {
   "cell_type": "code",
   "execution_count": 2,
   "id": "00e73d2a",
   "metadata": {},
   "outputs": [
    {
     "name": "stdout",
     "output_type": "stream",
     "text": [
      "iNeuron\n"
     ]
    }
   ],
   "source": [
    "X = 'iNeuron'\n",
    "def func():\n",
    "    X = 'NI!'\n",
    "func()\n",
    "print(X)\n",
    "\n",
    "# Explanation: X='NI!' is a local variable which could be accessed only within the specific function. \n",
    "#In this snippet print(X) is called outside the function. So, it refers to the gloabal variable and ineuron is printed."
   ]
  },
  {
   "cell_type": "markdown",
   "id": "5627a896",
   "metadata": {},
   "source": [
    "3. What does this code print, and why?"
   ]
  },
  {
   "cell_type": "code",
   "execution_count": 3,
   "id": "0805bb67",
   "metadata": {},
   "outputs": [
    {
     "name": "stdout",
     "output_type": "stream",
     "text": [
      "NI\n",
      "iNeuron\n"
     ]
    }
   ],
   "source": [
    "X = 'iNeuron'\n",
    "def func():\n",
    "    X = 'NI'\n",
    "    print(X)\n",
    "func()\n",
    "print(X)\n",
    "\n",
    "'''\n",
    "In this snippet there are 2 print functions. one is within the function and as a result of that 'NI' is printed\n",
    "once again print(X) is given outside the function. so, ineuron is printed as output\n",
    "'''"
   ]
  },
  {
   "cell_type": "markdown",
   "id": "ab3a3d52",
   "metadata": {},
   "source": [
    "4. What output does this code produce? Why?"
   ]
  },
  {
   "cell_type": "code",
   "execution_count": 4,
   "id": "6d6fca1d",
   "metadata": {},
   "outputs": [
    {
     "name": "stdout",
     "output_type": "stream",
     "text": [
      "NI\n"
     ]
    }
   ],
   "source": [
    "X = 'iNeuron'\n",
    "def func():\n",
    "    global X\n",
    "    X = 'NI'\n",
    "func()\n",
    "print(X)\n",
    "\n",
    "'''\n",
    "in this code X=NI is defined specifically as global inside the function. so, value of X gets updated from iNeuron to NI\n",
    "'''"
   ]
  },
  {
   "cell_type": "markdown",
   "id": "01a64a24",
   "metadata": {},
   "source": [
    "5. What about this code—what’s the output, and why?"
   ]
  },
  {
   "cell_type": "code",
   "execution_count": 8,
   "id": "dcc2b8a1",
   "metadata": {},
   "outputs": [
    {
     "name": "stdout",
     "output_type": "stream",
     "text": [
      "iNeuron\n"
     ]
    },
    {
     "data": {
      "text/plain": [
       "\"\\nX='NI' is defined only within the func() function. print(X) in nested() function refers only to the global variable X='iNeuron'\\n\""
      ]
     },
     "execution_count": 8,
     "metadata": {},
     "output_type": "execute_result"
    }
   ],
   "source": [
    "X = 'iNeuron'\n",
    "def func():\n",
    "    X = 'NI'\n",
    "def nested():\n",
    "    print(X)\n",
    "nested()\n",
    "\n",
    "func()\n",
    "X\n",
    "'''\n",
    "X='NI' is defined only within the func() function. print(X) in nested() function refers only to the global variable X='iNeuron'\n",
    "'''\n"
   ]
  },
  {
   "cell_type": "markdown",
   "id": "a18af5bc",
   "metadata": {},
   "source": [
    "6. How about this code: what is its output in Python 3, and explain?"
   ]
  },
  {
   "cell_type": "code",
   "execution_count": 11,
   "id": "b9d54f7e",
   "metadata": {},
   "outputs": [
    {
     "name": "stdout",
     "output_type": "stream",
     "text": [
      "NI\n"
     ]
    }
   ],
   "source": [
    "def func():\n",
    "    X = 'NI'\n",
    "    def nested():\n",
    "        nonlocal X\n",
    "        X = 'Spam'\n",
    "    nested()\n",
    "    print(X)\n",
    "func()\n",
    "'''Nonlocal variables are used in nested functions whose local scope is not defined. \n",
    "This means that the variable can be neither in the local nor the global scope. \n",
    "it printed the updated value from nested function'''"
   ]
  },
  {
   "cell_type": "code",
   "execution_count": null,
   "id": "4cdcfa24",
   "metadata": {},
   "outputs": [],
   "source": []
  }
 ],
 "metadata": {
  "kernelspec": {
   "display_name": "Python 3 (ipykernel)",
   "language": "python",
   "name": "python3"
  },
  "language_info": {
   "codemirror_mode": {
    "name": "ipython",
    "version": 3
   },
   "file_extension": ".py",
   "mimetype": "text/x-python",
   "name": "python",
   "nbconvert_exporter": "python",
   "pygments_lexer": "ipython3",
   "version": "3.11.2"
  }
 },
 "nbformat": 4,
 "nbformat_minor": 5
}
