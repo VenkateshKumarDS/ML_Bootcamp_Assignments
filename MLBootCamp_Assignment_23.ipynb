{
 "cells": [
  {
   "cell_type": "markdown",
   "id": "134ac0c8",
   "metadata": {},
   "source": [
    "1. What is the result of the code, and why?"
   ]
  },
  {
   "cell_type": "code",
   "execution_count": 1,
   "id": "b7ba348e",
   "metadata": {},
   "outputs": [
    {
     "name": "stdout",
     "output_type": "stream",
     "text": [
      "1 2 8\n"
     ]
    }
   ],
   "source": [
    "def func(a, b=6, c=8):\n",
    "    print(a, b, c)\n",
    "func(1, 2)\n",
    "\n",
    "'''\n",
    "O/P: 1 2 8\n",
    "Explanation: 1 and 2 are given as input in the function. c value not given, so it takes default value of 8 \n",
    "'''"
   ]
  },
  {
   "cell_type": "markdown",
   "id": "0bac1d8e",
   "metadata": {},
   "source": [
    "2. What is the result of this code, and why?"
   ]
  },
  {
   "cell_type": "code",
   "execution_count": 2,
   "id": "cd077043",
   "metadata": {},
   "outputs": [
    {
     "name": "stdout",
     "output_type": "stream",
     "text": [
      "1 2 3\n"
     ]
    }
   ],
   "source": [
    "def func(a, b, c=5):\n",
    "    print(a, b, c)\n",
    "func(1, c=3, b=2)\n",
    "'''\n",
    "O/P:1 2 3\n",
    "Explanation: while calling the function value of c and b was given as 3 and 2. But print order is a,b,c\n",
    "\n",
    "'''"
   ]
  },
  {
   "cell_type": "markdown",
   "id": "340f9818",
   "metadata": {},
   "source": [
    "3. How about this code: what is its result, and why?"
   ]
  },
  {
   "cell_type": "code",
   "execution_count": 6,
   "id": "e8fc43bc",
   "metadata": {},
   "outputs": [
    {
     "name": "stdout",
     "output_type": "stream",
     "text": [
      "1 (2, 3)\n"
     ]
    }
   ],
   "source": [
    "def func(a, *pargs):\n",
    "    print(a, pargs)\n",
    "func(1, 2, 3)\n",
    "\n",
    "'''\n",
    "O/P:1(2,3)\n",
    "Explanation: in the output 1 refers to value of 'a' and the values within parenthesis refers to pargs\n",
    "'''"
   ]
  },
  {
   "cell_type": "markdown",
   "id": "8be9d635",
   "metadata": {},
   "source": [
    "4. What does this code print, and why?"
   ]
  },
  {
   "cell_type": "code",
   "execution_count": 3,
   "id": "bda7056c",
   "metadata": {},
   "outputs": [
    {
     "name": "stdout",
     "output_type": "stream",
     "text": [
      "1 {'c': 3, 'b': 2}\n"
     ]
    }
   ],
   "source": [
    "def func(a, **kargs):\n",
    "    print(a, kargs)\n",
    "func(a=1, c=3, b=2)\n",
    "\n",
    "'''\n",
    "O/P:1 {'c': 3, 'b': 2}\n",
    "Explanation: in the output 1 refers to value of 'a', the values within flower brackets refers to keyword arguments\n",
    "'''\n"
   ]
  },
  {
   "cell_type": "markdown",
   "id": "f25e8777",
   "metadata": {},
   "source": [
    "5. What gets printed by this, and explain?"
   ]
  },
  {
   "cell_type": "code",
   "execution_count": 10,
   "id": "36d8341d",
   "metadata": {},
   "outputs": [
    {
     "name": "stdout",
     "output_type": "stream",
     "text": [
      "1 5 6 5\n"
     ]
    },
    {
     "data": {
      "text/plain": [
       "\"\\nO/P:1 5 6 5\\nExplanation: in the output 1 refers to value of 'a', the values within brackets refers to 'b' and 'c'. last 5 refers to 'd' which is already defined\\n\""
      ]
     },
     "execution_count": 10,
     "metadata": {},
     "output_type": "execute_result"
    }
   ],
   "source": [
    "def func(a, b, c=8, d=5): \n",
    "    print(a, b, c, d)\n",
    "func(1, *(5, 6))\n",
    "\n",
    "'''\n",
    "O/P:1 5 6 5\n",
    "Explanation: in the output 1 refers to value of 'a', the values within brackets refers to 'b' and 'c'. last 5 refers to 'd' which is already defined\n",
    "'''"
   ]
  },
  {
   "cell_type": "markdown",
   "id": "f6876ff3",
   "metadata": {},
   "source": [
    "6. what is the result of this, and explain?"
   ]
  },
  {
   "cell_type": "code",
   "execution_count": 12,
   "id": "3c02ada4",
   "metadata": {},
   "outputs": [
    {
     "data": {
      "text/plain": [
       "(1, ['x'], {'a': 'y'})"
      ]
     },
     "execution_count": 12,
     "metadata": {},
     "output_type": "execute_result"
    }
   ],
   "source": [
    "def func(a, b, c): \n",
    "    a = 2; b[0] = 'x'; c['a'] = 'y'\n",
    "    l=1; m=[1]; n={'a':0}\n",
    "func(l, m, n)\n",
    "l, m, n\n"
   ]
  },
  {
   "cell_type": "code",
   "execution_count": null,
   "id": "8756f89f",
   "metadata": {},
   "outputs": [],
   "source": []
  }
 ],
 "metadata": {
  "kernelspec": {
   "display_name": "Python 3 (ipykernel)",
   "language": "python",
   "name": "python3"
  },
  "language_info": {
   "codemirror_mode": {
    "name": "ipython",
    "version": 3
   },
   "file_extension": ".py",
   "mimetype": "text/x-python",
   "name": "python",
   "nbconvert_exporter": "python",
   "pygments_lexer": "ipython3",
   "version": "3.11.2"
  }
 },
 "nbformat": 4,
 "nbformat_minor": 5
}
