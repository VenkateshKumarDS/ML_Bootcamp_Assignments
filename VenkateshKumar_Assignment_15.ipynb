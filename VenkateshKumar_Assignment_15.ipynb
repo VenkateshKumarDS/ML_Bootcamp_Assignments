{
  "nbformat": 4,
  "nbformat_minor": 0,
  "metadata": {
    "colab": {
      "provenance": []
    },
    "kernelspec": {
      "name": "python3",
      "display_name": "Python 3"
    },
    "language_info": {
      "name": "python"
    }
  },
  "cells": [
    {
      "cell_type": "markdown",
      "source": [
        "1. How many seconds are in an hour? Use the interactive interpreter as a calculator and multiply the number of seconds in a minute (60) by the number of minutes in an hour (also 60)."
      ],
      "metadata": {
        "id": "yDd-v4a5Q-hX"
      }
    },
    {
      "cell_type": "code",
      "source": [
        "seconds_per_minute=60\n",
        "minutes_per_hour=60\n",
        "seconds_per_minute*minutes_per_hour"
      ],
      "metadata": {
        "colab": {
          "base_uri": "https://localhost:8080/"
        },
        "id": "qQ2czwjGRDIy",
        "outputId": "3aa4c2b5-c900-4ad6-d6cc-928733613bad"
      },
      "execution_count": 3,
      "outputs": [
        {
          "output_type": "execute_result",
          "data": {
            "text/plain": [
              "3600"
            ]
          },
          "metadata": {},
          "execution_count": 3
        }
      ]
    },
    {
      "cell_type": "markdown",
      "source": [
        "2. Assign the result from the previous task (seconds in an hour) to a variable called seconds_per_hour."
      ],
      "metadata": {
        "id": "oPq1Pw5RRaNw"
      }
    },
    {
      "cell_type": "code",
      "source": [
        "seconds_per_hour=3600"
      ],
      "metadata": {
        "id": "H7IOx4hDRNRq"
      },
      "execution_count": 2,
      "outputs": []
    },
    {
      "cell_type": "markdown",
      "source": [
        "3. How many seconds do you think there are in a day? Make use of the variables seconds per hour and minutes per hour."
      ],
      "metadata": {
        "id": "iPGkDcIIRdmL"
      }
    },
    {
      "cell_type": "code",
      "source": [
        "seconds_per_hour*24"
      ],
      "metadata": {
        "colab": {
          "base_uri": "https://localhost:8080/"
        },
        "id": "PaH2oOpPRZGu",
        "outputId": "ed728c7a-5991-4b71-a9f1-401853bce3bb"
      },
      "execution_count": 6,
      "outputs": [
        {
          "output_type": "execute_result",
          "data": {
            "text/plain": [
              "86400"
            ]
          },
          "metadata": {},
          "execution_count": 6
        }
      ]
    },
    {
      "cell_type": "markdown",
      "source": [
        "4. Calculate seconds per day again, but this time save the result in a variable called seconds_per_day"
      ],
      "metadata": {
        "id": "adGU5Gn2SKIa"
      }
    },
    {
      "cell_type": "code",
      "source": [
        "seconds_per_day=seconds_per_hour*24\n",
        "seconds_per_day"
      ],
      "metadata": {
        "colab": {
          "base_uri": "https://localhost:8080/"
        },
        "id": "G2tD1xNXSDR-",
        "outputId": "8667b1c1-eed2-489f-bd44-b2f6c746ea71"
      },
      "execution_count": 7,
      "outputs": [
        {
          "output_type": "execute_result",
          "data": {
            "text/plain": [
              "86400"
            ]
          },
          "metadata": {},
          "execution_count": 7
        }
      ]
    },
    {
      "cell_type": "markdown",
      "source": [
        "5. Divide seconds_per_day by seconds_per_hour. Use floating-point (/) division."
      ],
      "metadata": {
        "id": "-WgeCdzFSejN"
      }
    },
    {
      "cell_type": "code",
      "source": [
        "seconds_per_day/seconds_per_hour"
      ],
      "metadata": {
        "colab": {
          "base_uri": "https://localhost:8080/"
        },
        "id": "R5PHYqtOSbgW",
        "outputId": "4e90df96-7999-4ed8-a747-150fbb758ce3"
      },
      "execution_count": 8,
      "outputs": [
        {
          "output_type": "execute_result",
          "data": {
            "text/plain": [
              "24.0"
            ]
          },
          "metadata": {},
          "execution_count": 8
        }
      ]
    },
    {
      "cell_type": "markdown",
      "source": [
        "6. Divide seconds_per_day by seconds_per_hour, using integer (//) division. Did this number agree with the floating-point value from the previous question, aside from the final .0?"
      ],
      "metadata": {
        "id": "eoUl_wRESpKr"
      }
    },
    {
      "cell_type": "code",
      "source": [
        "# Yes it agrees\n",
        "seconds_per_day//seconds_per_hour"
      ],
      "metadata": {
        "colab": {
          "base_uri": "https://localhost:8080/"
        },
        "id": "spMLFrFQSlHg",
        "outputId": "3285983d-17f7-4629-97cd-79c91c04b5d2"
      },
      "execution_count": 9,
      "outputs": [
        {
          "output_type": "execute_result",
          "data": {
            "text/plain": [
              "24"
            ]
          },
          "metadata": {},
          "execution_count": 9
        }
      ]
    },
    {
      "cell_type": "markdown",
      "source": [
        "7. Write a generator, genPrimes, that returns the sequence of prime numbers on successive calls to its next() method: 2, 3, 5, 7, 11, ..."
      ],
      "metadata": {
        "id": "m3rmSgf5S39O"
      }
    },
    {
      "cell_type": "code",
      "source": [
        "def genPrimes():\n",
        "    '''Generates Prime Numbers'''\n",
        "    primes = []   \n",
        "    last = 1      \n",
        "    while True:\n",
        "        last += 1\n",
        "        for p in primes:\n",
        "            if last % p == 0:\n",
        "                break\n",
        "        else:\n",
        "            primes.append(last)\n",
        "            yield last\n",
        "\n",
        "genPrimes()"
      ],
      "metadata": {
        "colab": {
          "base_uri": "https://localhost:8080/"
        },
        "id": "RPagSZ4WSwpa",
        "outputId": "532f96c2-701d-469b-de5f-fea48156c367"
      },
      "execution_count": 12,
      "outputs": [
        {
          "output_type": "execute_result",
          "data": {
            "text/plain": [
              "<generator object genPrimes at 0x7fd224fd7c80>"
            ]
          },
          "metadata": {},
          "execution_count": 12
        }
      ]
    },
    {
      "cell_type": "code",
      "source": [],
      "metadata": {
        "id": "BbKCDeReTrsz"
      },
      "execution_count": null,
      "outputs": []
    }
  ]
}